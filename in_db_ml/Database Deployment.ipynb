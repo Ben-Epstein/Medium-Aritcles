{
 "cells": [
  {
   "cell_type": "code",
   "execution_count": 1,
   "metadata": {},
   "outputs": [],
   "source": [
    "from pyspark.sql import SparkSession\n",
    "spark = SparkSession.builder.getOrCreate()"
   ]
  },
  {
   "cell_type": "code",
   "execution_count": null,
   "metadata": {},
   "outputs": [],
   "source": [
    "from splicemachine.notebook import get_spark_ui, get_mlflow_ui\n",
    "get_spark_ui()"
   ]
  },
  {
   "cell_type": "code",
   "execution_count": 3,
   "metadata": {},
   "outputs": [],
   "source": [
    "from splicemachine.spark import PySpliceContext\n",
    "from splicemachine.mlflow_support import *\n",
    "\n",
    "splice = PySpliceContext(spark)\n",
    "mlflow.register_splice_context(splice)"
   ]
  },
  {
   "cell_type": "code",
   "execution_count": null,
   "metadata": {},
   "outputs": [],
   "source": [
    "mlflow.set_experiment('Iris_classification')\n",
    "mlflow.start_run(run_name='Spark Decision Tree')\n",
    "get_mlflow_ui(mlflow.current_exp_id())"
   ]
  },
  {
   "cell_type": "code",
   "execution_count": 14,
   "metadata": {
    "scrolled": true
   },
   "outputs": [
    {
     "name": "stdout",
     "output_type": "stream",
     "text": [
      "+------------+-----------+------------+-----------+-----+\n",
      "|sepal_length|sepal_width|petal_length|petal_width|label|\n",
      "+------------+-----------+------------+-----------+-----+\n",
      "|         5.1|        3.5|         1.4|        0.2|  0.0|\n",
      "|         4.9|        3.0|         1.4|        0.2|  0.0|\n",
      "|         4.7|        3.2|         1.3|        0.2|  0.0|\n",
      "|         4.6|        3.1|         1.5|        0.2|  0.0|\n",
      "|         5.0|        3.6|         1.4|        0.2|  0.0|\n",
      "|         5.4|        3.9|         1.7|        0.4|  0.0|\n",
      "|         4.6|        3.4|         1.4|        0.3|  0.0|\n",
      "|         5.0|        3.4|         1.5|        0.2|  0.0|\n",
      "|         4.4|        2.9|         1.4|        0.2|  0.0|\n",
      "|         4.9|        3.1|         1.5|        0.1|  0.0|\n",
      "|         5.4|        3.7|         1.5|        0.2|  0.0|\n",
      "|         4.8|        3.4|         1.6|        0.2|  0.0|\n",
      "|         4.8|        3.0|         1.4|        0.1|  0.0|\n",
      "|         4.3|        3.0|         1.1|        0.1|  0.0|\n",
      "|         5.8|        4.0|         1.2|        0.2|  0.0|\n",
      "|         5.7|        4.4|         1.5|        0.4|  0.0|\n",
      "|         5.4|        3.9|         1.3|        0.4|  0.0|\n",
      "|         5.1|        3.5|         1.4|        0.3|  0.0|\n",
      "|         5.7|        3.8|         1.7|        0.3|  0.0|\n",
      "|         5.1|        3.8|         1.5|        0.3|  0.0|\n",
      "+------------+-----------+------------+-----------+-----+\n",
      "only showing top 20 rows\n",
      "\n"
     ]
    }
   ],
   "source": [
    "from sklearn.datasets import load_iris\n",
    "import pandas as pd\n",
    "import numpy as np\n",
    "\n",
    "data = load_iris()\n",
    "cols = [i.replace('(cm)','').strip().replace(' ','_') for i in data.feature_names] + ['label'] # Column name cleanup\n",
    "pdf = pd.DataFrame(np.c_[data.data, data.target], columns=cols)\n",
    "df = spark.createDataFrame(pdf)\n",
    "df.show()"
   ]
  },
  {
   "cell_type": "code",
   "execution_count": 21,
   "metadata": {},
   "outputs": [
    {
     "name": "stdout",
     "output_type": "stream",
     "text": [
      "PipelineModel_e5f045504804\n"
     ]
    }
   ],
   "source": [
    "from pyspark.ml.feature import VectorAssembler\n",
    "from pyspark.ml.classification import DecisionTreeClassifier\n",
    "from pyspark.ml import Pipeline\n",
    "\n",
    "va = VectorAssembler(inputCols=cols[:-1], outputCol='features') # Define feature vector\n",
    "dt = DecisionTreeClassifier() # Define model\n",
    "pipeline = Pipeline(stages=[va, dt]) # Chain our steps together into a full pipeline\n",
    "\n",
    "train, test = df.randomSplit([0.8,0.2])\n",
    "model = pipeline.fit(train)\n",
    "print(model)"
   ]
  },
  {
   "cell_type": "code",
   "execution_count": 35,
   "metadata": {},
   "outputs": [
    {
     "name": "stdout",
     "output_type": "stream",
     "text": [
      "Warning: Transformer DecisionTreeClassificationModel (uid=DecisionTreeClassifier_773869dd41b9) of depth 4 with 13 nodes could not be parsed. If this is a model, this is expected.\n",
      "Warning: Transformer DecisionTreeClassificationModel (uid=DecisionTreeClassifier_773869dd41b9) of depth 4 with 13 nodes could not be parsed. If this is a model, this is expected.\n",
      "Saving artifact of size: 15.968 KB to Splice Machine DB\n"
     ]
    }
   ],
   "source": [
    "mlflow.log_pipeline_stages(model)\n",
    "mlflow.log_feature_transformations(model)\n",
    "mlflow.lp('maxDepth', model.stages[-1].getOrDefault('maxDepth'))\n",
    "mlflow.lp('maxBins', model.stages[-1].getOrDefault('maxBins'))\n",
    "mlflow.log_model(model, 'spark_dt') # Important!"
   ]
  },
  {
   "cell_type": "code",
   "execution_count": 42,
   "metadata": {},
   "outputs": [],
   "source": [
    "mlflow.deploy_db?"
   ]
  },
  {
   "cell_type": "code",
   "execution_count": 47,
   "metadata": {
    "scrolled": true
   },
   "outputs": [
    {
     "name": "stdout",
     "output_type": "stream",
     "text": [
      "Deploying model to database...\n",
      "Your Job has been submitted. The returned value of this function is the job id, which you can use to monitor the your task in real-time. Run mlflow.watch_job(<job id>) tostream them to stdout, or mlflow.fetch_logs(<job id>) to read them one time to a list\n",
      "---Job Logs------Job Logs---\n",
      "INFO     2020-09-11 14:17:56.542 - A service worker has found your request\n",
      "INFO     2020-09-11 14:17:56.665 - Checking whether handler DEPLOY_DATABASE is enabled\n",
      "INFO     2020-09-11 14:17:56.717 - Handler is available\n",
      "INFO     2020-09-11 14:17:56.745 - Retrieving Run from MLFlow Tracking Server...\n",
      "INFO     2020-09-11 14:17:56.850 - Retrieved MLFlow Run\n",
      "INFO     2020-09-11 14:17:56.880 - Updating MLFlow Run for the UI\n",
      "INFO     2020-09-11 14:17:56.969 - Reading Model Artifact Stream from Splice Machine\n",
      "INFO     2020-09-11 14:17:56.996 - Extracting Model from DB with Name: spark_dt\n",
      "INFO     2020-09-11 14:17:57.064 - Decoding Model Artifact Binary Stream for Deployment\n",
      "INFO     2020-09-11 14:17:57.105 - Decompressing Model Artifact\n",
      "INFO     2020-09-11 14:17:57.131 - Creating raw model representation from MLModel\n",
      "INFO     2020-09-11 14:17:57.156 - Reading MLModel Flavor from Extracted ArchiveINFO     2020-09-11 14:17:57.156 - Reading MLModel Flavor from Extracted Archive\n",
      "INFO     2020-09-11 14:18:01.573 - Registering Raw Model Representation...\n",
      "INFO     2020-09-11 14:18:01.590 - Done.\n",
      "INFO     2020-09-11 14:18:01.608 - Adding Model Schema and DF...\n",
      "INFO     2020-09-11 14:18:01.665 - Saving Spark Representation to MLeap Format\n",
      "INFO     2020-09-11 14:18:02.402 - Adding Library Specific Representations...\n",
      "INFO     2020-09-11 14:18:02.420 - Adding Serialized Representations...\n",
      "INFO     2020-09-11 14:18:02.529 - Updating Artifact with serialized representation\n",
      "INFO     2020-09-11 14:18:02.548 - Preparing Model Metadata for Deployment...\n",
      "INFO     2020-09-11 14:18:02.565 - Preparing Spark Metadata for deployment\n",
      "INFO     2020-09-11 14:18:02.583 - Classes: ['setosa', 'versicolor', 'virginica'] were specified\n",
      "INFO     2020-09-11 14:18:02.602 - Labels found. Using ['setosa', 'versicolor', 'virginica'] as labels for predictions 0-2 respectively\n",
      "INFO     2020-09-11 14:18:02.624 - Adding Schema String to model metadata...\n",
      "INFO     2020-09-11 14:18:02.652 - Starting 'creating model deployment table'...INFO     2020-09-11 14:18:02.652 - Starting 'creating model deployment table'...\n",
      "INFO     2020-09-11 14:18:02.716 - Executing\n",
      "CREATE TABLE splice.iris_model (\n",
      "                CUR_USER VARCHAR(50) DEFAULT CURRENT_USER,\n",
      "                EVAL_TIME TIMESTAMP DEFAULT CURRENT_TIMESTAMP,\n",
      "                RUN_ID VARCHAR(50) DEFAULT '64ba79bf110d',\n",
      "                sepal_length FLOAT, sepal_width FLOAT, petal_length FLOAT, petal_width FLOAT,MOMENT_ID INT,PREDICTION VARCHAR(5000),\"setosa\" DOUBLE,\"versicolor\" DOUBLE,\"virginica\" DOUBLE,PRIMARY KEY(MOMENT_ID))\n",
      "INFO     2020-09-11 14:18:03.667 - Done with 'creating model deployment table' [in 1015.0101184844971 ms]\n",
      "INFO     2020-09-11 14:18:03.688 - Starting 'creating trigger'...\n",
      "INFO     2020-09-11 14:18:03.705 - Creating Prediction Trigger...\n",
      "INFO     2020-09-11 14:18:03.723 - Executing\n",
      "CREATE TRIGGER splice.runModel_iris_model_64ba79bf110d\n",
      "                           BEFORE INSERT ON splice.iris_model REFERENCING NEW AS NEWROW \n",
      "                           FOR EACH ROW SET NEWROW.PREDICTION=MLMANAGER.PREDICT_CLASSIFICATION('64ba79bf110d',TRIM(CAST(CAST(NEWROW.SEPAL_LENGTH as DECIMAL(38,10)) as CHAR(41)))||','||TRIM(CAST(CAST(NEWROW.SEPAL_WIDTH as DECIMAL(38,10)) as CHAR(41)))||','||TRIM(CAST(CAST(NEWROW.PETAL_LENGTH as DECIMAL(38,10)) as CHAR(41)))||','||TRIM(CAST(CAST(NEWROW.PETAL_WIDTH as DECIMAL(38,10)) as CHAR(41))),\n",
      "'sepal_length FLOAT, sepal_width FLOAT, petal_length FLOAT, petal_width FLOAT')'sepal_length FLOAT, sepal_width FLOAT, petal_length FLOAT, petal_width FLOAT')\n",
      "INFO     2020-09-11 14:18:04.002 - Done with 'creating trigger' [in 314.1348361968994 ms]\n",
      "INFO     2020-09-11 14:18:04.045 - Starting 'create parsing trigger'...\n",
      "INFO     2020-09-11 14:18:04.063 - Creating parsing trigger...\n",
      "INFO     2020-09-11 14:18:04.080 - Executing\n",
      "CREATE TRIGGER splice.PARSERESULT_iris_model_64ba79bf110d                                 BEFORE INSERT ON splice.iris_model REFERENCING NEW AS NEWROW                                 FOR EACH ROW set NEWROW.\"setosa\"=MLMANAGER.PARSEPROBS(NEWROW.prediction,0),NEWROW.\"versicolor\"=MLMANAGER.PARSEPROBS(NEWROW.prediction,1),NEWROW.\"virginica\"=MLMANAGER.PARSEPROBS(NEWROW.prediction,2),NEWROW.PREDICTION=   CASE   WHEN MLMANAGER.GETPREDICTION(NEWROW.prediction)=0 then 'setosa'   WHEN MLMANAGER.GETPREDICTION(NEWROW.prediction)=1 then 'versicolor'   WHEN MLMANAGER.GETPREDICTION(NEWROW.prediction)=2 then 'virginica'   END;\n",
      "INFO     2020-09-11 14:18:04.496 - Done with 'create parsing trigger' [in 450.79588890075684 ms]\n",
      "INFO     2020-09-11 14:18:04.513 - Starting 'add model to metadata table'...\n",
      "INFO     2020-09-11 14:18:04.529 - Adding Model to Metadata table\n",
      "INFO     2020-09-11 14:18:04.649 - Executing SQL to insert Database Deployed Metadata\n",
      "INFO     2020-09-11 14:18:04.772 - Done executing.\n",
      "INFO     2020-09-11 14:18:04.791 - Done with 'add model to metadata table' [in 277.73213386535645 ms]\n",
      "INFO     2020-09-11 14:18:04.810 - Flushing\n",
      "WARNING  2020-09-11 14:18:04.830 - Committing Transaction to Database\n",
      "INFO     2020-09-11 14:18:04.885 - Committed.\n",
      "INFO     2020-09-11 14:18:04.903 - Cleaning up deployment\n",
      "INFO     2020-09-11 14:18:04.945 - Success! Target 'DEPLOY_DATABASE' completed successfully.\n",
      "INFO     2020-09-11 14:18:04.977 - TASK_COMPLETED"
     ]
    }
   ],
   "source": [
    "from splicemachine.mlflow_support.utilities import get_user\n",
    "schema = get_user()\n",
    "run_id = mlflow.current_run_id()\n",
    "jid = mlflow.deploy_db(schema, 'iris_model', run_id, create_model_table=True, df=df.select(cols[:-1]), primary_key={'MOMENT_ID':'INT'}, classes=list(data.target_names))\n",
    "mlflow.watch_job(jid)"
   ]
  },
  {
   "cell_type": "code",
   "execution_count": 73,
   "metadata": {},
   "outputs": [
    {
     "name": "stderr",
     "output_type": "stream",
     "text": [
      "/opt/conda/lib/python3.7/site-packages/ipykernel/ipkernel.py:287: DeprecationWarning: `should_run_async` will not call `transform_cell` automatically in the future. Please pass the result to `transformed_cell` argument and any exception that happen during thetransform in `preprocessing_exc_tuple` in IPython 7.17 and above.\n",
      "  and should_run_async(code)\n"
     ]
    },
    {
     "data": {
      "application/vnd.jupyter.widget-view+json": {
       "model_id": "da14e7b1-7ed9-404b-b310-8936857d2229",
       "version_major": 2,
       "version_minor": 0
      },
      "method": "display_data"
     },
     "metadata": {},
     "output_type": "display_data"
    },
    {
     "data": {
      "application/vnd.jupyter.widget-view+json": {
       "model_id": "4f85eaa9-2462-4ff0-bf98-c020fc172b78",
       "version_major": 2,
       "version_minor": 0
      },
      "method": "display_data"
     },
     "metadata": {},
     "output_type": "display_data"
    },
    {
     "data": {
      "application/vnd.jupyter.widget-view+json": {
       "model_id": "d168fc73-13a3-4fc1-abcb-43322881244e",
       "version_major": 2,
       "version_minor": 0
      },
      "method": "display_data"
     },
     "metadata": {},
     "output_type": "display_data"
    }
   ],
   "source": [
    "%%sql\n",
    "\n",
    "insert into iris_model (sepal_length, sepal_width, petal_length, petal_width, moment_id) values (5.1, 3.5, 1.4, 0.2, 0);\n",
    "insert into iris_model (sepal_length, sepal_width, petal_length, petal_width, moment_id) values (6.4, 2.7, 5.3, 2.0, 1);\n",
    "\n",
    "select * from iris_model;"
   ]
  },
  {
   "cell_type": "code",
   "execution_count": 74,
   "metadata": {},
   "outputs": [],
   "source": [
    "spark.stop()"
   ]
  },
  {
   "cell_type": "code",
   "execution_count": null,
   "metadata": {},
   "outputs": [],
   "source": []
  }
 ],
 "metadata": {
  "kernelspec": {
   "display_name": "Python 3",
   "language": "python",
   "name": "python3"
  },
  "language_info": {
   "codemirror_mode": {
    "name": "ipython",
    "version": 3
   },
   "file_extension": ".py",
   "mimetype": "text/x-python",
   "name": "python",
   "nbconvert_exporter": "python",
   "pygments_lexer": "ipython3",
   "version": "3.7.8"
  },
  "toc": {
   "base_numbering": 1,
   "nav_menu": {},
   "number_sections": false,
   "sideBar": false,
   "skip_h1_title": false,
   "title_cell": "Table of Contents",
   "title_sidebar": "Contents",
   "toc_cell": false,
   "toc_position": {},
   "toc_section_display": false,
   "toc_window_display": false
  },
  "widgets": {
   "application/vnd.jupyter.widget-state+json": {
    "state": {
     "20f06808-1d0d-4c86-937c-53198430855d": {
      "model_module": "@jupyter-widgets/base",
      "model_module_version": "*",
      "model_name": "LayoutModel",
      "state": {
       "_model_module_version": "*",
       "_view_module_version": "*",
       "align_content": "",
       "align_self": "",
       "border": "",
       "bottom": "",
       "flex": "",
       "height": "",
       "justify_content": "",
       "left": "",
       "margin": "",
       "max_height": "",
       "max_width": "",
       "min_height": "",
       "min_width": "",
       "msg_throttle": 3,
       "overflow": "",
       "overflow_x": "",
       "overflow_y": "",
       "padding": "",
       "right": "",
       "top": ""
      }
     },
     "4f85eaa9-2462-4ff0-bf98-c020fc172b78": {
      "model_module": "beakerx",
      "model_module_version": "*",
      "model_name": "HTMLPreModel",
      "state": {
       "font_family": "",
       "font_size": "",
       "font_style": "",
       "font_weight": "",
       "layout": "IPY_MODEL_c957ea99-b2e7-49bb-9c7f-16f6afc6b8f6",
       "msg_throttle": 3,
       "placeholder": "",
       "value": "Query executed successfully. Affected rows : 0",
       "visible": true
      }
     },
     "c957ea99-b2e7-49bb-9c7f-16f6afc6b8f6": {
      "model_module": "@jupyter-widgets/base",
      "model_module_version": "*",
      "model_name": "LayoutModel",
      "state": {
       "_model_module_version": "*",
       "_view_module_version": "*",
       "align_content": "",
       "align_self": "",
       "border": "",
       "bottom": "",
       "flex": "",
       "height": "",
       "justify_content": "",
       "left": "",
       "margin": "",
       "max_height": "",
       "max_width": "",
       "min_height": "",
       "min_width": "",
       "msg_throttle": 3,
       "overflow": "",
       "overflow_x": "",
       "overflow_y": "",
       "padding": "",
       "right": "",
       "top": ""
      }
     },
     "d168fc73-13a3-4fc1-abcb-43322881244e": {
      "model_module": "beakerx",
      "model_module_version": "*",
      "model_name": "TableDisplayModel",
      "state": {
       "model": {
        "alignmentForColumn": {},
        "alignmentForType": {},
        "cellHighlighters": [],
        "columnNames": [
         "CUR_USER",
         "EVAL_TIME",
         "RUN_ID",
         "SEPAL_LENGTH",
         "SEPAL_WIDTH",
         "PETAL_LENGTH",
         "PETAL_WIDTH",
         "MOMENT_ID",
         "PREDICTION",
         "setosa",
         "versicolor",
         "virginica"
        ],
        "columnOrder": [],
        "columnsFrozen": {},
        "columnsFrozenRight": {},
        "columnsVisible": {},
        "contextMenuItems": [],
        "contextMenuTags": {},
        "fontColor": [],
        "hasDoubleClickAction": false,
        "headersVertical": false,
        "rendererForColumn": {},
        "rendererForType": {},
        "stringFormatForColumn": {},
        "stringFormatForType": {},
        "subtype": "TableDisplay",
        "tooManyRows": false,
        "tooltips": [],
        "type": "TableDisplay",
        "types": [
         "java.lang.String",
         "java.sql.Timestamp",
         "java.lang.String",
         "java.lang.Double",
         "java.lang.Double",
         "java.lang.Double",
         "java.lang.Double",
         "java.lang.Integer",
         "java.lang.String",
         "java.lang.Double",
         "java.lang.Double",
         "java.lang.Double"
        ],
        "values": [
         [
          "SPLICE",
          {
           "timestamp": 1599834390092,
           "type": "Date"
          },
          "64ba79bf110d",
          5.1,
          3.5,
          1.4,
          0.2,
          0,
          "setosa",
          1,
          0,
          0
         ],
         [
          "SPLICE",
          {
           "timestamp": 1599834390743,
           "type": "Date"
          },
          "64ba79bf110d",
          6.4,
          2.7,
          5.3,
          2,
          1,
          "virginica",
          0,
          0,
          1
         ]
        ]
       }
      }
     },
     "da14e7b1-7ed9-404b-b310-8936857d2229": {
      "model_module": "beakerx",
      "model_module_version": "*",
      "model_name": "HTMLPreModel",
      "state": {
       "font_family": "",
       "font_size": "",
       "font_style": "",
       "font_weight": "",
       "layout": "IPY_MODEL_20f06808-1d0d-4c86-937c-53198430855d",
       "msg_throttle": 3,
       "placeholder": "",
       "value": "Query executed successfully. Affected rows : 0",
       "visible": true
      }
     }
    },
    "version_major": 2,
    "version_minor": 0
   }
  }
 },
 "nbformat": 4,
 "nbformat_minor": 4
}
